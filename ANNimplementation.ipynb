{
 "cells": [
  {
   "cell_type": "code",
   "execution_count": 25,
   "id": "3cf404da-4af2-4589-813a-0566ec6a774b",
   "metadata": {},
   "outputs": [
    {
     "data": {
      "text/html": [
       "<div>\n",
       "<style scoped>\n",
       "    .dataframe tbody tr th:only-of-type {\n",
       "        vertical-align: middle;\n",
       "    }\n",
       "\n",
       "    .dataframe tbody tr th {\n",
       "        vertical-align: top;\n",
       "    }\n",
       "\n",
       "    .dataframe thead th {\n",
       "        text-align: right;\n",
       "    }\n",
       "</style>\n",
       "<table border=\"1\" class=\"dataframe\">\n",
       "  <thead>\n",
       "    <tr style=\"text-align: right;\">\n",
       "      <th></th>\n",
       "      <th>Run order</th>\n",
       "      <th>(X)</th>\n",
       "      <th>(Xp)</th>\n",
       "      <th>(Xg)</th>\n",
       "      <th>(X4)</th>\n",
       "      <th>(Y,)</th>\n",
       "      <th>(Yo)</th>\n",
       "      <th>(Ys)</th>\n",
       "    </tr>\n",
       "  </thead>\n",
       "  <tbody>\n",
       "    <tr>\n",
       "      <th>0</th>\n",
       "      <td>1</td>\n",
       "      <td>15.0</td>\n",
       "      <td>40</td>\n",
       "      <td>10</td>\n",
       "      <td>3.0</td>\n",
       "      <td>77.59</td>\n",
       "      <td>80.73</td>\n",
       "      <td>79.67</td>\n",
       "    </tr>\n",
       "    <tr>\n",
       "      <th>1</th>\n",
       "      <td>2</td>\n",
       "      <td>17.5</td>\n",
       "      <td>40</td>\n",
       "      <td>5</td>\n",
       "      <td>6.0</td>\n",
       "      <td>87.94</td>\n",
       "      <td>90.21</td>\n",
       "      <td>89.02</td>\n",
       "    </tr>\n",
       "    <tr>\n",
       "      <th>2</th>\n",
       "      <td>3</td>\n",
       "      <td>17.5</td>\n",
       "      <td>50</td>\n",
       "      <td>15</td>\n",
       "      <td>4.5</td>\n",
       "      <td>92.95</td>\n",
       "      <td>95.17</td>\n",
       "      <td>93.98</td>\n",
       "    </tr>\n",
       "    <tr>\n",
       "      <th>3</th>\n",
       "      <td>4</td>\n",
       "      <td>15.0</td>\n",
       "      <td>40</td>\n",
       "      <td>10</td>\n",
       "      <td>6.0</td>\n",
       "      <td>71.85</td>\n",
       "      <td>77.76</td>\n",
       "      <td>77.09</td>\n",
       "    </tr>\n",
       "    <tr>\n",
       "      <th>4</th>\n",
       "      <td>5</td>\n",
       "      <td>20.0</td>\n",
       "      <td>40</td>\n",
       "      <td>10</td>\n",
       "      <td>3.0</td>\n",
       "      <td>92.47</td>\n",
       "      <td>94.42</td>\n",
       "      <td>93.17</td>\n",
       "    </tr>\n",
       "  </tbody>\n",
       "</table>\n",
       "</div>"
      ],
      "text/plain": [
       "   Run order   (X)  (Xp)  (Xg)  (X4)   (Y,)   (Yo)   (Ys)\n",
       "0          1  15.0    40    10   3.0  77.59  80.73  79.67\n",
       "1          2  17.5    40     5   6.0  87.94  90.21  89.02\n",
       "2          3  17.5    50    15   4.5  92.95  95.17  93.98\n",
       "3          4  15.0    40    10   6.0  71.85  77.76  77.09\n",
       "4          5  20.0    40    10   3.0  92.47  94.42  93.17"
      ]
     },
     "execution_count": 25,
     "metadata": {},
     "output_type": "execute_result"
    }
   ],
   "source": [
    "#importing libraries\n",
    "import numpy as np\n",
    "import pandas as pd\n",
    "import matplotlib.pyplot as plt\n",
    "\n",
    "dataset=pd.read_csv('1667220168455_IMG_20221031_173757.csv')\n",
    "dataset.head()"
   ]
  },
  {
   "cell_type": "code",
   "execution_count": 26,
   "id": "4c21d8c8-3c85-4592-90fb-d7fc104332b0",
   "metadata": {},
   "outputs": [
    {
     "data": {
      "text/plain": [
       "0     77.59\n",
       "1     87.94\n",
       "2     92.95\n",
       "3     71.85\n",
       "4     92.47\n",
       "5     93.34\n",
       "6     64.06\n",
       "7     92.37\n",
       "8     79.58\n",
       "9     76.75\n",
       "10    94.72\n",
       "11    76.17\n",
       "12    92.56\n",
       "13    91.62\n",
       "14    86.61\n",
       "15    80.94\n",
       "16    84.21\n",
       "17    80.14\n",
       "18    92.65\n",
       "19    95.45\n",
       "20    88.87\n",
       "21    93.66\n",
       "22    86.33\n",
       "23    90.21\n",
       "24    92.82\n",
       "25    94.22\n",
       "26    89.89\n",
       "27    78.88\n",
       "28    91.95\n",
       "Name: (Y,), dtype: float64"
      ]
     },
     "execution_count": 26,
     "metadata": {},
     "output_type": "execute_result"
    }
   ],
   "source": [
    "#dependent and independent variable\n",
    "X = dataset.iloc[:, 1:5]\n",
    "y = dataset.iloc[:, 5]\n",
    "X\n",
    "y"
   ]
  },
  {
   "cell_type": "code",
   "execution_count": 27,
   "id": "52c61e51-4a6b-49a6-a8f2-1f019905c795",
   "metadata": {},
   "outputs": [],
   "source": [
    "# Splitting the dataset into the Training set and Test set\n",
    "from sklearn.model_selection import train_test_split\n",
    "X_train, X_test, y_train, y_test = train_test_split(X, y, test_size = 0.2, random_state = 0)"
   ]
  },
  {
   "cell_type": "code",
   "execution_count": 28,
   "id": "064b069c-d72e-4c7a-b833-6759c7bed76c",
   "metadata": {},
   "outputs": [
    {
     "data": {
      "text/plain": [
       "(23, 4)"
      ]
     },
     "execution_count": 28,
     "metadata": {},
     "output_type": "execute_result"
    }
   ],
   "source": [
    "# Feature Scaling\n",
    "from sklearn.preprocessing import StandardScaler\n",
    "sc = StandardScaler()\n",
    "X_train = sc.fit_transform(X_train)\n",
    "X_test = sc.transform(X_test)\n",
    "\n",
    "X_train.shape"
   ]
  },
  {
   "cell_type": "code",
   "execution_count": 29,
   "id": "77f678c4-ffe9-457c-8d25-9b6267cdef42",
   "metadata": {},
   "outputs": [
    {
     "name": "stdout",
     "output_type": "stream",
     "text": [
      "Epoch 1/100\n"
     ]
    },
    {
     "name": "stderr",
     "output_type": "stream",
     "text": [
      "c:\\python\\python38\\lib\\site-packages\\keras\\engine\\data_adapter.py:1699: FutureWarning: The behavior of `series[i:j]` with an integer-dtype index is deprecated. In a future version, this will be treated as *label-based* indexing, consistent with e.g. `series[i]` lookups. To retain the old behavior, use `series.iloc[i:j]`. To get the future behavior, use `series.loc[i:j]`.\n",
      "  return t[start:end]\n"
     ]
    },
    {
     "name": "stdout",
     "output_type": "stream",
     "text": [
      "4/4 [==============================] - 1s 43ms/step - loss: 7582.3447 - val_loss: 7012.5312\n",
      "Epoch 2/100\n",
      "4/4 [==============================] - 0s 11ms/step - loss: 7568.1382 - val_loss: 7000.6147\n",
      "Epoch 3/100\n",
      "4/4 [==============================] - 0s 11ms/step - loss: 7556.9165 - val_loss: 6987.5703\n",
      "Epoch 4/100\n",
      "4/4 [==============================] - 0s 11ms/step - loss: 7546.2588 - val_loss: 6971.9297\n",
      "Epoch 5/100\n",
      "4/4 [==============================] - 0s 11ms/step - loss: 7530.8696 - val_loss: 6952.6772\n",
      "Epoch 6/100\n",
      "4/4 [==============================] - 0s 10ms/step - loss: 7509.5527 - val_loss: 6926.9478\n",
      "Epoch 7/100\n",
      "4/4 [==============================] - 0s 11ms/step - loss: 7482.6348 - val_loss: 6891.7422\n",
      "Epoch 8/100\n",
      "4/4 [==============================] - 0s 10ms/step - loss: 7443.8647 - val_loss: 6844.8154\n",
      "Epoch 9/100\n",
      "4/4 [==============================] - 0s 10ms/step - loss: 7393.4463 - val_loss: 6780.1709\n",
      "Epoch 10/100\n",
      "4/4 [==============================] - 0s 10ms/step - loss: 7320.7275 - val_loss: 6691.9893\n",
      "Epoch 11/100\n",
      "4/4 [==============================] - 0s 11ms/step - loss: 7219.0132 - val_loss: 6572.4600\n",
      "Epoch 12/100\n",
      "4/4 [==============================] - 0s 10ms/step - loss: 7091.5684 - val_loss: 6408.6377\n",
      "Epoch 13/100\n",
      "4/4 [==============================] - 0s 11ms/step - loss: 6912.3770 - val_loss: 6184.7124\n",
      "Epoch 14/100\n",
      "4/4 [==============================] - 0s 10ms/step - loss: 6658.9243 - val_loss: 5884.1055\n",
      "Epoch 15/100\n",
      "4/4 [==============================] - 0s 11ms/step - loss: 6315.3652 - val_loss: 5485.9810\n",
      "Epoch 16/100\n",
      "4/4 [==============================] - 0s 11ms/step - loss: 5854.2725 - val_loss: 4964.6416\n",
      "Epoch 17/100\n",
      "4/4 [==============================] - 0s 10ms/step - loss: 5266.0132 - val_loss: 4303.1455\n",
      "Epoch 18/100\n",
      "4/4 [==============================] - 0s 11ms/step - loss: 4511.6621 - val_loss: 3508.6802\n",
      "Epoch 19/100\n",
      "4/4 [==============================] - 0s 11ms/step - loss: 3602.4834 - val_loss: 2620.5054\n",
      "Epoch 20/100\n",
      "4/4 [==============================] - 0s 10ms/step - loss: 2610.3699 - val_loss: 1775.3248\n",
      "Epoch 21/100\n",
      "4/4 [==============================] - 0s 10ms/step - loss: 1711.6664 - val_loss: 1225.1155\n",
      "Epoch 22/100\n",
      "4/4 [==============================] - 0s 11ms/step - loss: 1169.5830 - val_loss: 1186.4481\n",
      "Epoch 23/100\n",
      "4/4 [==============================] - 0s 10ms/step - loss: 1097.0031 - val_loss: 1347.2399\n",
      "Epoch 24/100\n",
      "4/4 [==============================] - 0s 11ms/step - loss: 1151.7642 - val_loss: 1251.6838\n",
      "Epoch 25/100\n",
      "4/4 [==============================] - 0s 11ms/step - loss: 981.3463 - val_loss: 991.5597\n",
      "Epoch 26/100\n",
      "4/4 [==============================] - 0s 10ms/step - loss: 798.1127 - val_loss: 832.0469\n",
      "Epoch 27/100\n",
      "4/4 [==============================] - 0s 10ms/step - loss: 750.3713 - val_loss: 773.0674\n",
      "Epoch 28/100\n",
      "4/4 [==============================] - 0s 10ms/step - loss: 742.8904 - val_loss: 736.8998\n",
      "Epoch 29/100\n",
      "4/4 [==============================] - 0s 11ms/step - loss: 716.4534 - val_loss: 687.3539\n",
      "Epoch 30/100\n",
      "4/4 [==============================] - 0s 10ms/step - loss: 661.4621 - val_loss: 643.8167\n",
      "Epoch 31/100\n",
      "4/4 [==============================] - 0s 10ms/step - loss: 621.0277 - val_loss: 615.5232\n",
      "Epoch 32/100\n",
      "4/4 [==============================] - 0s 10ms/step - loss: 607.0588 - val_loss: 603.8425\n",
      "Epoch 33/100\n",
      "4/4 [==============================] - 0s 11ms/step - loss: 584.8755 - val_loss: 582.9258\n",
      "Epoch 34/100\n",
      "4/4 [==============================] - 0s 11ms/step - loss: 565.5945 - val_loss: 555.6007\n",
      "Epoch 35/100\n",
      "4/4 [==============================] - 0s 10ms/step - loss: 538.2448 - val_loss: 530.5798\n",
      "Epoch 36/100\n",
      "4/4 [==============================] - 0s 10ms/step - loss: 520.3291 - val_loss: 514.9609\n",
      "Epoch 37/100\n",
      "4/4 [==============================] - 0s 11ms/step - loss: 513.0706 - val_loss: 505.3196\n",
      "Epoch 38/100\n",
      "4/4 [==============================] - 0s 11ms/step - loss: 500.9513 - val_loss: 490.7598\n",
      "Epoch 39/100\n",
      "4/4 [==============================] - 0s 11ms/step - loss: 479.4437 - val_loss: 477.9447\n",
      "Epoch 40/100\n",
      "4/4 [==============================] - 0s 9ms/step - loss: 459.6215 - val_loss: 470.1952\n",
      "Epoch 41/100\n",
      "4/4 [==============================] - 0s 10ms/step - loss: 445.1022 - val_loss: 462.7563\n",
      "Epoch 42/100\n",
      "4/4 [==============================] - 0s 11ms/step - loss: 431.1320 - val_loss: 455.4427\n",
      "Epoch 43/100\n",
      "4/4 [==============================] - 0s 10ms/step - loss: 423.5785 - val_loss: 446.0667\n",
      "Epoch 44/100\n",
      "4/4 [==============================] - 0s 11ms/step - loss: 409.6860 - val_loss: 430.0084\n",
      "Epoch 45/100\n",
      "4/4 [==============================] - 0s 11ms/step - loss: 398.0099 - val_loss: 417.3865\n",
      "Epoch 46/100\n",
      "4/4 [==============================] - 0s 11ms/step - loss: 387.6871 - val_loss: 409.0081\n",
      "Epoch 47/100\n",
      "4/4 [==============================] - 0s 12ms/step - loss: 370.4100 - val_loss: 398.5244\n",
      "Epoch 48/100\n",
      "4/4 [==============================] - 0s 11ms/step - loss: 360.8143 - val_loss: 391.2280\n",
      "Epoch 49/100\n",
      "4/4 [==============================] - 0s 10ms/step - loss: 347.2382 - val_loss: 383.6130\n",
      "Epoch 50/100\n",
      "4/4 [==============================] - 0s 11ms/step - loss: 339.2508 - val_loss: 377.5377\n",
      "Epoch 51/100\n",
      "4/4 [==============================] - 0s 10ms/step - loss: 328.6420 - val_loss: 371.1782\n",
      "Epoch 52/100\n",
      "4/4 [==============================] - 0s 11ms/step - loss: 316.3238 - val_loss: 358.8639\n",
      "Epoch 53/100\n",
      "4/4 [==============================] - 0s 11ms/step - loss: 309.6106 - val_loss: 348.3497\n",
      "Epoch 54/100\n",
      "4/4 [==============================] - 0s 11ms/step - loss: 294.6215 - val_loss: 342.5545\n",
      "Epoch 55/100\n",
      "4/4 [==============================] - 0s 11ms/step - loss: 283.4336 - val_loss: 338.0112\n",
      "Epoch 56/100\n",
      "4/4 [==============================] - 0s 14ms/step - loss: 280.1139 - val_loss: 334.9117\n",
      "Epoch 57/100\n",
      "4/4 [==============================] - 0s 11ms/step - loss: 266.9614 - val_loss: 321.4700\n",
      "Epoch 58/100\n",
      "4/4 [==============================] - 0s 11ms/step - loss: 256.8535 - val_loss: 310.4178\n",
      "Epoch 59/100\n",
      "4/4 [==============================] - 0s 11ms/step - loss: 248.5766 - val_loss: 300.3821\n",
      "Epoch 60/100\n",
      "4/4 [==============================] - 0s 12ms/step - loss: 243.0170 - val_loss: 292.5173\n",
      "Epoch 61/100\n",
      "4/4 [==============================] - 0s 10ms/step - loss: 233.4846 - val_loss: 286.7590\n",
      "Epoch 62/100\n",
      "4/4 [==============================] - 0s 11ms/step - loss: 222.4788 - val_loss: 282.9920\n",
      "Epoch 63/100\n",
      "4/4 [==============================] - 0s 11ms/step - loss: 213.1231 - val_loss: 281.3483\n",
      "Epoch 64/100\n",
      "4/4 [==============================] - 0s 11ms/step - loss: 205.6399 - val_loss: 276.2556\n",
      "Epoch 65/100\n",
      "4/4 [==============================] - 0s 10ms/step - loss: 198.0581 - val_loss: 269.8210\n",
      "Epoch 66/100\n",
      "4/4 [==============================] - 0s 10ms/step - loss: 189.9575 - val_loss: 263.5295\n",
      "Epoch 67/100\n",
      "4/4 [==============================] - 0s 10ms/step - loss: 182.9200 - val_loss: 254.4565\n",
      "Epoch 68/100\n",
      "4/4 [==============================] - 0s 10ms/step - loss: 173.3945 - val_loss: 247.8795\n",
      "Epoch 69/100\n",
      "4/4 [==============================] - 0s 11ms/step - loss: 168.3806 - val_loss: 243.8801\n",
      "Epoch 70/100\n",
      "4/4 [==============================] - 0s 14ms/step - loss: 159.4703 - val_loss: 235.8181\n",
      "Epoch 71/100\n",
      "4/4 [==============================] - 0s 13ms/step - loss: 153.3176 - val_loss: 227.6734\n",
      "Epoch 72/100\n",
      "4/4 [==============================] - 0s 15ms/step - loss: 146.0166 - val_loss: 223.0930\n",
      "Epoch 73/100\n",
      "4/4 [==============================] - 0s 15ms/step - loss: 138.3409 - val_loss: 218.3795\n",
      "Epoch 74/100\n",
      "4/4 [==============================] - 0s 14ms/step - loss: 133.3819 - val_loss: 217.7158\n",
      "Epoch 75/100\n",
      "4/4 [==============================] - 0s 15ms/step - loss: 125.5837 - val_loss: 213.1099\n",
      "Epoch 76/100\n",
      "4/4 [==============================] - 0s 11ms/step - loss: 118.6140 - val_loss: 209.5785\n",
      "Epoch 77/100\n",
      "4/4 [==============================] - 0s 10ms/step - loss: 114.7127 - val_loss: 210.9259\n",
      "Epoch 78/100\n",
      "4/4 [==============================] - 0s 10ms/step - loss: 108.3838 - val_loss: 205.1447\n",
      "Epoch 79/100\n",
      "4/4 [==============================] - 0s 10ms/step - loss: 102.5686 - val_loss: 194.3397\n",
      "Epoch 80/100\n",
      "4/4 [==============================] - 0s 10ms/step - loss: 95.6794 - val_loss: 189.1426\n",
      "Epoch 81/100\n",
      "4/4 [==============================] - 0s 12ms/step - loss: 89.2755 - val_loss: 187.0733\n",
      "Epoch 82/100\n",
      "4/4 [==============================] - 0s 12ms/step - loss: 84.4813 - val_loss: 189.0935\n",
      "Epoch 83/100\n",
      "4/4 [==============================] - 0s 11ms/step - loss: 78.7366 - val_loss: 186.0846\n",
      "Epoch 84/100\n",
      "4/4 [==============================] - 0s 11ms/step - loss: 73.9872 - val_loss: 182.1482\n",
      "Epoch 85/100\n",
      "4/4 [==============================] - 0s 10ms/step - loss: 68.8404 - val_loss: 174.1965\n",
      "Epoch 86/100\n",
      "4/4 [==============================] - 0s 9ms/step - loss: 62.6134 - val_loss: 165.1083\n",
      "Epoch 87/100\n",
      "4/4 [==============================] - 0s 10ms/step - loss: 57.1540 - val_loss: 159.8893\n",
      "Epoch 88/100\n",
      "4/4 [==============================] - 0s 11ms/step - loss: 53.9106 - val_loss: 150.7615\n",
      "Epoch 89/100\n",
      "4/4 [==============================] - 0s 10ms/step - loss: 48.5387 - val_loss: 150.6410\n",
      "Epoch 90/100\n",
      "4/4 [==============================] - 0s 11ms/step - loss: 44.9434 - val_loss: 150.9395\n",
      "Epoch 91/100\n",
      "4/4 [==============================] - 0s 11ms/step - loss: 40.7038 - val_loss: 147.4178\n",
      "Epoch 92/100\n",
      "4/4 [==============================] - 0s 10ms/step - loss: 36.8355 - val_loss: 139.1343\n",
      "Epoch 93/100\n",
      "4/4 [==============================] - 0s 10ms/step - loss: 32.8083 - val_loss: 133.8212\n",
      "Epoch 94/100\n",
      "4/4 [==============================] - 0s 10ms/step - loss: 29.9332 - val_loss: 131.2616\n",
      "Epoch 95/100\n",
      "4/4 [==============================] - 0s 10ms/step - loss: 27.1801 - val_loss: 130.8631\n",
      "Epoch 96/100\n",
      "4/4 [==============================] - 0s 11ms/step - loss: 24.0924 - val_loss: 123.3285\n",
      "Epoch 97/100\n",
      "4/4 [==============================] - 0s 10ms/step - loss: 21.9615 - val_loss: 118.1984\n",
      "Epoch 98/100\n",
      "4/4 [==============================] - 0s 10ms/step - loss: 19.7424 - val_loss: 118.9396\n",
      "Epoch 99/100\n",
      "4/4 [==============================] - 0s 11ms/step - loss: 16.7391 - val_loss: 117.7867\n",
      "Epoch 100/100\n",
      "4/4 [==============================] - 0s 10ms/step - loss: 15.1022 - val_loss: 118.0521\n"
     ]
    }
   ],
   "source": [
    "import tensorflow.keras\n",
    "from tensorflow.keras.models import Sequential\n",
    "from tensorflow.keras.layers import Dense\n",
    "from tensorflow.keras.layers import Dropout\n",
    "\n",
    "# Initialising the ANN\n",
    "model = Sequential()\n",
    "\n",
    "# Adding the input layer and the first hidden layer\n",
    "model.add(Dense(32, activation = 'relu', input_dim = 4))\n",
    "\n",
    "# Adding the second hidden layer\n",
    "model.add(Dense(units = 32, activation = 'relu'))\n",
    "\n",
    "# Adding the third hidden layer\n",
    "model.add(Dense(units = 32, activation = 'relu'))\n",
    "\n",
    "# Adding the fourth hidden layer\n",
    "model.add(Dense(units = 32, activation = 'relu'))\n",
    "\n",
    "# Adding the fifth hidden layer\n",
    "model.add(Dense(units = 32, activation = 'relu'))\n",
    "\n",
    "# Adding the output layer\n",
    "model.add(Dense(units = 1))\n",
    "# Compiling the ANN\n",
    "model.compile(optimizer = 'adam', loss = 'mean_squared_error')\n",
    "\n",
    "# Fitting the ANN to the Training set\n",
    "model_history=model.fit(X_train, y_train, batch_size = 5,validation_split=0.2, epochs = 100)\n",
    "\n"
   ]
  },
  {
   "cell_type": "code",
   "execution_count": 30,
   "id": "fccde566-f9d2-4ac3-b6f6-b3a701b2e12c",
   "metadata": {},
   "outputs": [
    {
     "name": "stdout",
     "output_type": "stream",
     "text": [
      "WARNING:tensorflow:5 out of the last 5 calls to <function Model.make_predict_function.<locals>.predict_function at 0x00000261EFD4F9D0> triggered tf.function retracing. Tracing is expensive and the excessive number of tracings could be due to (1) creating @tf.function repeatedly in a loop, (2) passing tensors with different shapes, (3) passing Python objects instead of tensors. For (1), please define your @tf.function outside of the loop. For (2), @tf.function has reduce_retracing=True option that can avoid unnecessary retracing. For (3), please refer to https://www.tensorflow.org/guide/function#controlling_retracing and https://www.tensorflow.org/api_docs/python/tf/function for  more details.\n",
      "1/1 [==============================] - 0s 67ms/step\n"
     ]
    }
   ],
   "source": [
    "y_pred = model.predict(X_test)"
   ]
  },
  {
   "cell_type": "code",
   "execution_count": 31,
   "id": "32a61e3c-d775-4a0f-ac18-566b73ba576d",
   "metadata": {},
   "outputs": [
    {
     "data": {
      "image/png": "[encoded data removed]",
      "text/plain": [
       "<Figure size 640x480 with 1 Axes>"
      ]
     },
     "metadata": {},
     "output_type": "display_data"
    }
   ],
   "source": [
    "# summarize history for loss\n",
    "plt.plot(model_history.history['loss'])\n",
    "plt.plot(model_history.history['val_loss'])\n",
    "plt.title('model loss')\n",
    "plt.ylabel('loss')\n",
    "plt.xlabel('epoch')\n",
    "plt.legend(['train', 'test'], loc='upper left')\n",
    "plt.show()\n",
    "\n"
   ]
  },
  {
   "cell_type": "code",
   "execution_count": 32,
   "id": "5c8521c2-a8fe-4460-a956-5f38bc6c7752",
   "metadata": {},
   "outputs": [
    {
     "name": "stderr",
     "output_type": "stream",
     "text": [
      "c:\\python\\python38\\lib\\site-packages\\numpy\\core\\shape_base.py:65: VisibleDeprecationWarning: Creating an ndarray from ragged nested sequences (which is a list-or-tuple of lists-or-tuples-or ndarrays with different lengths or shapes) is deprecated. If you meant to do this, you must specify 'dtype=object' when creating the ndarray.\n",
      "  ary = asanyarray(ary)\n"
     ]
    },
    {
     "data": {
      "image/png": "[encoded data removed]",
      "text/plain": [
       "<Figure size 640x480 with 1 Axes>"
      ]
     },
     "metadata": {},
     "output_type": "display_data"
    }
   ],
   "source": [
    "\n",
    "plt.scatter( y_test, y_pred,c='crimson')\n",
    "plt.yscale('log')\n",
    "plt.xscale('log')\n",
    "\n",
    "p1 = max(max(y_pred), max(y_test))\n",
    "p2 = min(min(y_pred), min(y_test))\n",
    "plt.plot([p1, p2], [p1, p2], 'b-')\n",
    "plt.xlabel('True Values', fontsize=15)\n",
    "plt.ylabel('ANN Model Prediction values', fontsize=15)\n",
    "plt.axis('equal')\n",
    "plt.show()"
   ]
  },
  {
   "cell_type": "code",
   "execution_count": 32,
   "id": "5a50a71d-6b66-4415-a07b-c46b516027ba",
   "metadata": {},
   "outputs": [
    {
     "name": "stderr",
     "output_type": "stream",
     "text": [
      "c:\\python\\python38\\lib\\site-packages\\numpy\\core\\shape_base.py:65: VisibleDeprecationWarning: Creating an ndarray from ragged nested sequences (which is a list-or-tuple of lists-or-tuples-or ndarrays with different lengths or shapes) is deprecated. If you meant to do this, you must specify 'dtype=object' when creating the ndarray.\n",
      "  ary = asanyarray(ary)\n"
     ]
    },
    {
     "data": {
      "image/png": "[encoded data removed]",
      "text/plain": [
       "<Figure size 640x480 with 1 Axes>"
      ]
     },
     "metadata": {},
     "output_type": "display_data"
    }
   ],
   "source": [
    "\n",
    "plt.scatter( y_test, y_pred,c='crimson')\n",
    "plt.yscale('log')\n",
    "plt.xscale('log')\n",
    "\n",
    "p1 = max(max(y_pred), max(y_test))\n",
    "p2 = min(min(y_pred), min(y_test))\n",
    "plt.plot([p1, p2], [p1, p2], 'b-')\n",
    "plt.xlabel('True Values', fontsize=15)\n",
    "plt.ylabel('ANN Model Prediction values', fontsize=15)\n",
    "plt.axis('equal')\n",
    "plt.show()"
   ]
  }
 ],
 "metadata": {
  "kernelspec": {
   "display_name": "Python 3 (ipykernel)",
   "language": "python",
   "name": "python3"
  },
  "language_info": {
   "codemirror_mode": {
    "name": "ipython",
    "version": 3
   },
   "file_extension": ".py",
   "mimetype": "text/x-python",
   "name": "python",
   "nbconvert_exporter": "python",
   "pygments_lexer": "ipython3",
   "version": "3.8.0"
  }
 },
 "nbformat": 4,
 "nbformat_minor": 5
}
